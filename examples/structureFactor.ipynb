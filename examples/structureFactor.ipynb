{
 "cells": [
  {
   "cell_type": "code",
   "execution_count": 1,
   "metadata": {},
   "outputs": [],
   "source": [
    "import numpy as np, matplotlib.pyplot as plt\n",
    "from scipy import fft\n",
    "\n",
    "from tqdm import tqdm\n",
    "\n",
    "import time\n",
    "from glob import glob\n",
    "from natsort import natsorted\n",
    "\n",
    "import sys, os\n",
    "current_path = os.path.abspath('')\n",
    "sys.path.insert(0, os.path.abspath(os.path.join(current_path, '..')))\n",
    "\n",
    "from activemodelbplus.integrator import Model, Stencil, Integrator"
   ]
  },
  {
   "cell_type": "code",
   "execution_count": null,
   "metadata": {},
   "outputs": [],
   "source": [
    "# Parameters for normal equilibrium spinodal decomposition.\n",
    "dx, dy = 1, 1\n",
    "stencil = Stencil(dt=1e-2, dx=dx, dy=dy)\n",
    "model = Model(a=-0.25, b=0, c=0.25, kappa=1, lamb=0, zeta=0, T=0)\n",
    "phi0 = 0\n",
    "variance = 1.\n",
    "\n",
    "Nx, Ny = 512, 512\n",
    "initial = np.random.normal(loc=phi0, scale=np.sqrt(variance), size=(Ny, Nx))\n",
    "initial += phi0 - np.average(initial)\n",
    "\n",
    "sim = Integrator(initial, stencil, model)\n",
    "\n",
    "def trajectory(s):\n",
    "    trajectory.time += [s.time]\n",
    "    trajectory.field += [s.field.copy()]\n",
    "trajectory.time = []\n",
    "trajectory.field = []\n",
    "\n",
    "tsample = np.geomspace(1e0, 1e6, 7)\n",
    "sim.run_for_time(tsample[-1], show_progress=True, max_updates=1000,\n",
    "                 t_interrupt=tsample, f_interrupt=trajectory)\n",
    "assert np.all(np.isclose(tsample, trajectory.time))\n",
    "\n",
    "params = model.as_dict()\n",
    "params.update(stencil.as_dict())\n",
    "params\n",
    "path = f'trajectory_{int(time.time())}.npz'\n",
    "np.savez(path, time=trajectory.time, field=trajectory.field, **params)"
   ]
  },
  {
   "cell_type": "markdown",
   "metadata": {},
   "source": [
    "Checking correspondence between discrete and continuous Fourier transforms by considering the humble Gaussian:"
   ]
  },
  {
   "cell_type": "code",
   "execution_count": null,
   "metadata": {},
   "outputs": [],
   "source": [
    "N = 1000\n",
    "L = 200\n",
    "z = np.linspace(0, L, N)\n",
    "dz = z[1] - z[0]\n",
    "sigma = 2\n",
    "mu = 50\n",
    "fz = np.exp(-0.5 * (z-mu)**2 / sigma**2) / (2*np.pi * sigma**2)**0.5\n",
    "assert np.isclose(np.trapezoid(fz, z), 1)\n",
    "\n",
    "k = 2*np.pi * fft.fftshift(fft.fftfreq(N, d=dz))\n",
    "fk = fft.fftshift(fft.fft(fz)) * dz\n",
    "fk_exact = np.exp(-0.5 * (sigma*k)**2)\n",
    "assert np.allclose(np.abs(fk), fk_exact)\n",
    "\n",
    "fig, (ax1, ax2) = plt.subplots(nrows=2)\n",
    "ax1.plot(z, fz)\n",
    "ax1.set_xlabel(r'$x$')\n",
    "ax1.set_ylabel(r'$f(x)$')\n",
    "ax2.plot(k, np.abs(fk))\n",
    "ax2.plot(k, fk_exact)\n",
    "ax2.set_xlabel(r'$k$')\n",
    "ax2.set_ylabel(r'$\\widetilde{f}(k)$')\n",
    "\n",
    "plt.show()"
   ]
  },
  {
   "cell_type": "markdown",
   "metadata": {},
   "source": [
    "Test Fourier transform of the field. It should show a ring around the centre due to rotational symmetry."
   ]
  },
  {
   "cell_type": "code",
   "execution_count": null,
   "metadata": {},
   "outputs": [],
   "source": [
    "path = natsorted(glob('trajectory*.npz'))[-1]\n",
    "traj = np.load(path)\n",
    "phi = traj['field'][-1]\n",
    "dx = traj['dx']\n",
    "dy = traj['dy']\n",
    "Ny, Nx = traj['field'][0].shape\n",
    "phi0 = np.average(traj['field'][0])\n",
    "\n",
    "phiq = fft.fftshift(fft.fft2(phi-phi0)) * dx * dy\n",
    "kx = 2*np.pi * fft.fftshift(fft.fftfreq(Nx, d=dx))\n",
    "ky = 2*np.pi * fft.fftshift(fft.fftfreq(Ny, d=dy))\n",
    "Kx, Ky = np.meshgrid(kx, ky, indexing='xy')\n",
    "\n",
    "plt.pcolormesh(Kx, Ky, np.abs(phiq))\n",
    "plt.gca().set_aspect(1)\n",
    "plt.xlabel('$k_x$')\n",
    "plt.ylabel('$k_y$')\n",
    "plt.show()"
   ]
  },
  {
   "cell_type": "markdown",
   "metadata": {},
   "source": [
    "Calculate circularly averaged $S(q)$:"
   ]
  },
  {
   "cell_type": "code",
   "execution_count": null,
   "metadata": {},
   "outputs": [],
   "source": [
    "bin_edges = np.linspace(0, 3, 300)[1:]\n",
    "k = 0.5 * (bin_edges[1:] + bin_edges[:-1])\n",
    "\n",
    "path = natsorted(glob('trajectory*.npz'))[-1]\n",
    "traj = np.load(path)\n",
    "\n",
    "dx = traj['dx']\n",
    "dy = traj['dy']\n",
    "Ny, Nx = traj['field'][0].shape\n",
    "Lx = Nx * dx\n",
    "Ly = Ny * dy\n",
    "A = Lx * Ly\n",
    "phi0 = np.average(traj['field'][0])\n",
    "\n",
    "kx = 2*np.pi * fft.fftshift(fft.fftfreq(Nx, d=dx))\n",
    "ky = 2*np.pi * fft.fftshift(fft.fftfreq(Ny, d=dy))\n",
    "Kx, Ky = np.meshgrid(kx, ky, indexing='xy')\n",
    "K = (Kx**2 + Ky**2)**0.5\n",
    "indices = np.digitize(K, bin_edges, right=True)\n",
    "\n",
    "print('------------')\n",
    "print('  t    <R>')\n",
    "print('------------')\n",
    "\n",
    "for t, phi in zip(traj['time'], traj['field']):\n",
    "    assert np.isclose(np.average(phi), phi0)\n",
    "    phiq = fft.fftshift(fft.fft2(phi-phi0)) * dx * dy\n",
    "    phiq = np.abs(phiq)**2\n",
    "\n",
    "    S = np.zeros_like(k)\n",
    "    for l in range(S.size):\n",
    "        S[l] = np.average(phiq[indices == l])\n",
    "\n",
    "    from scipy.integrate import simpson\n",
    "    k_avg = simpson(k * S, k) / simpson(S, k)\n",
    "    print(fr' 10^{np.log10(t):.0g} {2*np.pi / k_avg:>5.1f}')\n",
    "\n",
    "    plt.plot(k / k_avg, S * k_avg**2 / A, label=rf'$10^{np.log10(t):.0g}$')\n",
    "print('------------')\n",
    "\n",
    "guide = lambda k: 1/k**3\n",
    "k = np.geomspace(0.5, 5)\n",
    "pl, = plt.plot(k, guide(k), '--', c='grey')\n",
    "kref = 2\n",
    "plt.text(0.8*kref, guide(kref), r'$k^{-3}$', fontsize=8, ha='right', va='center', c=pl.get_color())\n",
    "\n",
    "guide = lambda k: 2.5e-2/k\n",
    "k = np.geomspace(1, 30)\n",
    "pl, = plt.plot(k, guide(k), ':', c='brown')\n",
    "kref = 10\n",
    "plt.text(kref, 0.5*guide(kref), r'$k^{-1}$', fontsize=8, ha='center', va='center', c=pl.get_color())\n",
    "\n",
    "plt.legend(loc='best', title=r'$t=$')\n",
    "plt.xlabel(r'$k / \\langle k \\rangle$')\n",
    "plt.ylabel(r'$S(k) \\langle k \\rangle^2 / A$')\n",
    "plt.gca().set_xscale('log')\n",
    "plt.gca().set_yscale('log')\n",
    "\n",
    "plt.show()"
   ]
  },
  {
   "cell_type": "code",
   "execution_count": null,
   "metadata": {},
   "outputs": [],
   "source": []
  }
 ],
 "metadata": {
  "kernelspec": {
   "display_name": "Python 3",
   "language": "python",
   "name": "python3"
  },
  "language_info": {
   "codemirror_mode": {
    "name": "ipython",
    "version": 3
   },
   "file_extension": ".py",
   "mimetype": "text/x-python",
   "name": "python",
   "nbconvert_exporter": "python",
   "pygments_lexer": "ipython3",
   "version": "3.13.3"
  }
 },
 "nbformat": 4,
 "nbformat_minor": 2
}
