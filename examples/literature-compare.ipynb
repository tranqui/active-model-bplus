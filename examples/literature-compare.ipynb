{
 "cells": [
  {
   "cell_type": "markdown",
   "metadata": {},
   "source": [
    "# Active Model B+ Workbook"
   ]
  },
  {
   "cell_type": "markdown",
   "metadata": {},
   "source": [
    "## 0. Preamble"
   ]
  },
  {
   "cell_type": "code",
   "execution_count": 2,
   "metadata": {},
   "outputs": [],
   "source": [
    "import sys, os\n",
    "import cloudpickle\n",
    "from functools import cache\n",
    "\n",
    "import numpy as np\n",
    "from scipy import optimize\n",
    "import sympy as sp\n",
    "import matplotlib.pyplot as plt\n",
    "plt.rcParams['figure.dpi'] = 150\n",
    "\n",
    "currentdir = os.getcwd()\n",
    "parentdir = os.path.dirname(currentdir)\n",
    "sys.path.insert(0, parentdir) \n",
    "\n",
    "from activemodelbplus import activedroplets\n",
    "from activemodelbplus.activedroplets import ActiveModelBPlus\n",
    "from activemodelbplus.activefield import symbols"
   ]
  },
  {
   "cell_type": "markdown",
   "metadata": {},
   "source": [
    "## 1. Bulk binodals"
   ]
  },
  {
   "cell_type": "markdown",
   "metadata": {},
   "source": [
    "We start with the bulk binodals for coexistence in active model B+. These are obtained by the simultaneously matching bulk free energies and pseudopressures, as described in Tjhung et al. (2018). We show the result of this below that agrees with Fig. 2 of Tjhung et al. (2018), though I haven't bothered with a direct comparison as this is a less stringent tests in the next section for spherical droplets (that have good agreement).\n",
    "\n",
    "Note: in all calculations we take the passive parameters in active model B+ as $-a = b = 0.25$ and $K = 1$."
   ]
  },
  {
   "cell_type": "code",
   "execution_count": null,
   "metadata": {},
   "outputs": [],
   "source": [
    "zeta_lamb = np.linspace(-6, 6, 101) # (zeta - 2*lambda) parameter\n",
    "phi0, phi1 = activedroplets.binodal_densities(zeta_lamb)\n",
    "\n",
    "plt.plot(zeta_lamb, phi0, label=r'$\\phi_0$')\n",
    "plt.plot(zeta_lamb, phi1, label=r'$\\phi_1$')\n",
    "plt.axhline(y=0, lw=0.5)\n",
    "plt.xlim([-6, 6])\n",
    "plt.ylim([-1.5, 1.5])\n",
    "plt.xlabel(r'$\\zeta - 2\\lambda$')\n",
    "plt.ylabel(r'$\\phi$')\n",
    "plt.legend(loc='best');"
   ]
  },
  {
   "cell_type": "markdown",
   "metadata": {},
   "source": [
    "We could also look at the density profiles along planar interfaces at each state point via:"
   ]
  },
  {
   "cell_type": "code",
   "execution_count": null,
   "metadata": {},
   "outputs": [],
   "source": [
    "x = np.linspace(-20, 20, 1000)\n",
    "\n",
    "@cache\n",
    "def binodal(zeta_lamb):\n",
    "    zeta = zeta_lamb\n",
    "    lamb = 0\n",
    "    field = activedroplets.ActiveModelBPlus(zeta, lamb)\n",
    "    return field.binodal()\n",
    "\n",
    "for zeta_lamb in np.linspace(-2, 2, 5):\n",
    "    b = binodal(zeta_lamb)\n",
    "    print(b)\n",
    "\n",
    "    label = r'$\\zeta - 2\\lambda = %g$' % zeta_lamb\n",
    "    plt.plot(x, b(x), lw=1, label=label)\n",
    "\n",
    "plt.xlabel('$x-R$')\n",
    "plt.ylabel(r'$\\phi$')\n",
    "plt.legend(loc='best');\n",
    "plt.savefig('binodal_profiles.pdf')\n",
    "plt.savefig('binodal_profiles.png')"
   ]
  },
  {
   "cell_type": "markdown",
   "metadata": {},
   "source": [
    "NB: above we set $\\lambda = 0$ in the calculation stage for convenience, as only $\\zeta - 2\\lambda$ matters for planar interfaces."
   ]
  },
  {
   "cell_type": "markdown",
   "metadata": {},
   "source": [
    "The functional form of the kink is\n",
    "\\begin{equation}\n",
    "  z - z_0 = \\pm \\int_{\\psi_0}^\\psi  \\frac{d\\psi}{\\sqrt{-\\frac{2}{K} (1 + \\alpha \\psi) \\Delta P}}\n",
    "\\end{equation}\n",
    "where $\\Delta P = P - P_0$ with $P = \\psi \\mu - g$ and $\\alpha = (\\zeta - 2\\lambda) / K$.\n",
    "\n",
    "Below I attempt to find the interface profile by this method - it doesn't go quite right so it's a work in progress."
   ]
  },
  {
   "cell_type": "code",
   "execution_count": null,
   "metadata": {},
   "outputs": [],
   "source": [
    "b = binodal(2)\n",
    "\n",
    "field = b.field_theory\n",
    "zeta = field.zeta\n",
    "lamb = field.lamb\n",
    "zeta_lamb = zeta - 2*lamb\n",
    "K = field.K\n",
    "t = field.t\n",
    "u = field.u\n",
    "psi = sp.symbols('psi')\n",
    "\n",
    "g = t/2 * psi**2 + u/4 * psi**4\n",
    "alpha = zeta_lamb / K\n",
    "\n",
    "mu = g.diff(psi)\n",
    "p = mu*psi - g\n",
    "\n",
    "phi0, phi1 = b.phi0, b.phi1\n",
    "psi0, psi1 = b.pseudodensity(phi0), b.pseudodensity(phi1)\n",
    "p0 = p.subs(psi,psi0)\n",
    "\n",
    "# Kink solution\n",
    "integrand = 1/(-2/K * (1 + alpha*psi) * (p-p0))**(1/2)\n",
    "f = sp.lambdify(psi, integrand)\n",
    "\n",
    "pp = np.linspace(psi0, psi1, 1000)\n",
    "plt.plot(pp, f(pp))\n",
    "plt.axvline(x=psi0, ls='dashed')\n",
    "plt.axvline(x=psi1, ls='dashed')\n",
    "plt.xlabel('$z$')\n",
    "plt.ylabel('kink integrand')\n",
    "\n",
    "from scipy.integrate import cumulative_trapezoid\n",
    "phi = b(b.x)\n",
    "pp = b.pseudodensity(phi)\n",
    "psi_middle = b.pseudodensity(0)\n",
    "\n",
    "plt.figure()\n",
    "plt.plot(b.x, pp)\n",
    "for psi_end in [psi0, psi1]:\n",
    "    pp2 = np.linspace(psi_middle, psi_end, 1000)\n",
    "    z = -4*cumulative_trapezoid(f(pp2), pp2, initial=0)\n",
    "    plt.plot(z, pp2, '.')\n",
    "\n",
    "plt.xlabel('$z$')\n",
    "plt.ylabel(r'$\\psi(z)$')\n",
    "plt.xlim([-20, 20]);"
   ]
  },
  {
   "cell_type": "markdown",
   "metadata": {},
   "source": [
    "## 2. Coexisting densities vs droplet size"
   ]
  },
  {
   "cell_type": "markdown",
   "metadata": {},
   "source": [
    "Tjhung et al. (2018) take as example the two state-points $(\\zeta, \\lambda) = (-1, 0.5)$ and $(-4, -1)$ because these have the same value of $\\zeta - 2\\lambda = -2$ (so they have the same bulk density profile) yet they have different surface tensions. Specifically, in their calculations the former has positive (i.e. normal) surface tension whereas the latter has negative surface tension and thus reverse Ostwald ripening is expected.\n",
    "\n",
    "Below we find the steady-state droplet profiles corresponding to these two state-points with varying droplet radius $R$, and compare the resulting coexisting densities against the results of Tjhung et al. (2018). The densities at $r = 0$ and $r \\to \\infty$ are allowed to vary while keeping $\\phi(r=R) = 0$. This can be inverted to obtain $R$ as a function of $\\lim_{r\\to\\infty} \\phi(r)$."
   ]
  },
  {
   "cell_type": "code",
   "execution_count": 3,
   "metadata": {},
   "outputs": [],
   "source": [
    "R = np.arange(10, 101, 1)\n",
    "\n",
    "@cache\n",
    "def droplets(zeta, lamb, d):\n",
    "    cache_path = 'zeta=%g_lamb=%g_d=%d.drops' % (zeta, lamb, d)\n",
    "    if os.path.exists(cache_path):\n",
    "        with open(cache_path, 'rb') as f:\n",
    "            drops = cloudpickle.load(f)\n",
    "\n",
    "    else:\n",
    "        model = ActiveModelBPlus(zeta, lamb, d=d)\n",
    "        drops = []\n",
    "        for r in R:\n",
    "            try: drops += [model.droplet(r)]\n",
    "            except:\n",
    "                # Sometimes the Newton method fails to converge, but this can\n",
    "                # be fixed by providing the last droplet as an initial guess.\n",
    "                drops += [model.droplet(r, guess=drops[-1])]\n",
    "            print(drops[-1])\n",
    "\n",
    "        with open(cache_path, 'wb') as f:\n",
    "            cloudpickle.dump(drops, f)\n",
    "\n",
    "    return drops"
   ]
  },
  {
   "cell_type": "code",
   "execution_count": null,
   "metadata": {},
   "outputs": [],
   "source": [
    "for d in [2, 3]:\n",
    "    for zeta, lamb in [[-1, 0.5], [-4, -1]]:\n",
    "        drops = droplets(zeta, lamb, d)\n",
    "\n",
    "        # Pick the smallest droplet and show its profile for illustrative purposes.\n",
    "        drop = drops[0]\n",
    "        r = np.linspace(0, drop.x[-1], 1000)\n",
    "        label = r'$\\zeta=%g \\; \\lambda=%g \\; d=%d$' % (zeta, lamb, d)\n",
    "        plt.plot(r, drop(r), lw=0.5, label=label)\n",
    "\n",
    "plt.xlabel('$r$')\n",
    "plt.ylabel(r'$\\phi$')\n",
    "plt.legend(loc='best');"
   ]
  },
  {
   "cell_type": "markdown",
   "metadata": {},
   "source": [
    "Now we have the droplets at varying radius, we show the resulting coexisting densities for each $R$. These compare favourably with the values obtained by Tjhung et al. (2018) (dashed lines), especially considering we have used a different technique to obtain the droplet properties. The dotted horizontal lines are the bulk binodals for reference.\n",
    "\n",
    "Incidentally, these plots would have to be inverted to obtain $R$ as a function of $\\phi_1$ (because normally we'd be setting the background density as a control variable)."
   ]
  },
  {
   "cell_type": "code",
   "execution_count": null,
   "metadata": {},
   "outputs": [],
   "source": [
    "fig, (ax0, ax1) = plt.subplots(nrows=2, sharex=True, figsize=(3.375, 3.375))\n",
    "\n",
    "ax0.set_ylabel(r'$\\phi_0$')\n",
    "ax1.set_ylabel(r'$\\phi_1$')\n",
    "ax1.set_xlabel('$R$')\n",
    "\n",
    "for d in [2, 3]:\n",
    "    for zeta, lamb, marker in [[-1, 0.5, 'x'], [-4, -1, '+']]:\n",
    "        phi1, phi0 = activedroplets.binodal_densities(zeta - 2*lamb)\n",
    "        ax0.axhline(y=phi0, ls='dotted', lw=0.5, zorder=-10)\n",
    "        ax1.axhline(y=phi1, ls='dotted', lw=0.5, zorder=-10)\n",
    "\n",
    "        drops = droplets(zeta, lamb, d)\n",
    "        phi0, phi1 = zip(*[(drop.phi0, drop.phi1) for drop in drops])\n",
    "\n",
    "        label = r'$\\zeta=%g \\; \\lambda=%g \\; d=%d$' % (zeta, lamb, d)\n",
    "        pl0, = ax0.plot(R, phi0, lw=0.5, label=label)\n",
    "        pl1, = ax1.plot(R, phi1, lw=0.5, label=label)\n",
    "\n",
    "        literature_dataset = 'tjhung2018_zeta=%g_lamb=%g_d=%d' % (zeta, lamb, d)\n",
    "        label = '%s (Tjhung (2018))' % label\n",
    "\n",
    "        try:\n",
    "            lit_R, lit_phi0 = np.genfromtxt('%s_phi0.csv' % literature_dataset).T\n",
    "            ax0.plot(lit_R, lit_phi0, '--', lw=0.5, c=pl0.get_color())\n",
    "            lit_R, lit_phi0 = np.genfromtxt('%s_phi0_sim.csv' % literature_dataset).T\n",
    "            ax0.plot(lit_R, lit_phi0, marker, c=pl0.get_color())\n",
    "        except: pass\n",
    "\n",
    "        try:\n",
    "            lit_R, lit_phi1 = np.genfromtxt('%s_phi1.csv' % literature_dataset).T\n",
    "            ax1.plot(lit_R, lit_phi1, '--', lw=0.5, c=pl1.get_color())\n",
    "            lit_R, lit_phi1 = np.genfromtxt('%s_phi1_sim.csv' % literature_dataset).T\n",
    "            ax1.plot(lit_R, lit_phi1, marker, c=pl1.get_color())\n",
    "        except: pass\n",
    "\n",
    "        out = 'binodal_zeta=%g_lamb=%g_d=%d.csv' % (zeta, lamb, d)\n",
    "        np.savetxt(out, np.array((R,phi0,phi1)).T)\n",
    "\n",
    "ax0.set_xlim([0, 40])\n",
    "ax0.set_ylim([1,1.3])\n",
    "ax1.set_ylim([-1,-0.7])\n",
    "ax0.legend(loc='best', fontsize=8);"
   ]
  },
  {
   "cell_type": "markdown",
   "metadata": {},
   "source": [
    "Tjhung et al. (2018) argue that $\\phi_1$ increasing with $R$ for $(\\zeta, \\lambda) = (-4, -1)$ is due to a negative surface tension. \n",
    "We verify that this is indeed negative below by taking the largest droplets calculated so far ($R=100$). We evaluate the pressure drop directly and via the surface tension route:"
   ]
  },
  {
   "cell_type": "code",
   "execution_count": null,
   "metadata": {},
   "outputs": [],
   "source": [
    "for d in [2, 3]:\n",
    "    for zeta, lamb in [[-1, 0.5], [-4, -1]]:\n",
    "        drop = droplets(zeta, lamb, d)[-1]\n",
    "\n",
    "        P0 = drop.pseudopressure0\n",
    "        P1 = drop.pseudopressure1\n",
    "        dP_true = P0-P1\n",
    "        dP_surface_tension = drop.surface_tension_pseudopressure_drop\n",
    "        print('zeta=%g lamb=%g d=%d:\\tdP_true=%.4g dP_surface_tension=%.4g' %\n",
    "              (zeta, lamb, d, dP_true, dP_surface_tension))"
   ]
  },
  {
   "cell_type": "code",
   "execution_count": null,
   "metadata": {
    "scrolled": false
   },
   "outputs": [],
   "source": [
    "for d in [2, 3]:\n",
    "    zeta = 0\n",
    "    for lamb in [-2, -1, 0, 1, 2]:\n",
    "        drop = droplets(zeta, lamb, d)[-1]\n",
    "\n",
    "        P0 = drop.pseudopressure0\n",
    "        P1 = drop.pseudopressure1\n",
    "        dP_true = P0-P1\n",
    "        dP_surface_tension = drop.surface_tension_pseudopressure_drop\n",
    "        print('zeta=%g lamb=%g d=%d:\\tdP_true=%.4g dP_surface_tension=%.4g' %\n",
    "              (zeta, lamb, d, dP_true, dP_surface_tension))"
   ]
  },
  {
   "cell_type": "markdown",
   "metadata": {},
   "source": [
    "## 3. Surface tension"
   ]
  },
  {
   "cell_type": "markdown",
   "metadata": {},
   "source": [
    "Here we look at variation of surface tension. We can do this by fixing $\\zeta - 2\\lambda$, so that we consider planar interfaces with the same density profile, and vary one parameter to see the variation of the surface tension.\n",
    "\n",
    "Below we test this by taking $\\zeta - 2 \\lambda \\in \\{0, -2\\}$.\n",
    "\n",
    "Curiously, the surface tension appears to vary linearly with $\\lambda$ in the tested range. Update: this is linear and not surprising (see supplementary pdf notes)."
   ]
  },
  {
   "cell_type": "code",
   "execution_count": null,
   "metadata": {},
   "outputs": [],
   "source": [
    "@cache\n",
    "def planar_profile(zeta_lamb):\n",
    "    model = activedroplets.ActiveModelBPlus(zeta_lamb, 0, d=3)\n",
    "    return model.binodal()\n",
    "\n",
    "@cache\n",
    "def surface_tension(zeta, lamb):\n",
    "    profile = planar_profile(zeta - 2*lamb)\n",
    "    model = activedroplets.ActiveModelBPlus(zeta, lamb, d=3)\n",
    "    profile.field_theory = model\n",
    "    return profile.surface_tension\n",
    "\n",
    "print(surface_tension(-4, -1))\n",
    "print(surface_tension(-1, 0.5))"
   ]
  },
  {
   "cell_type": "code",
   "execution_count": 11,
   "metadata": {},
   "outputs": [],
   "source": [
    "# for zeta_lamb in [0, -2]:\n",
    "#     s = []\n",
    "#     zeta = np.arange(-40, 41, 1)\n",
    "#     lamb = 0.5*(zeta - zeta_lamb)\n",
    "#     for z,l in zip(zeta, lamb):\n",
    "#         s += [surface_tension(z, l)]\n",
    "\n",
    "#     s0, s1 = zip(*s)\n",
    "#     label = r'$\\zeta - 2\\lambda = %g$' % zeta_lamb\n",
    "#     pl, = plt.plot(lamb, s0, lw=0.5, label=('%s (Josh)' % label))\n",
    "#     plt.plot(lamb, s1, '--', lw=0.5, c=pl.get_color(), label=('%s (Tjhung)' % label))\n",
    "\n",
    "# plt.ylim([-5, 5])\n",
    "# plt.axhline(y=0, ls='dotted', lw=0.5, zorder=-10)\n",
    "# plt.xlabel('$\\lambda$')\n",
    "# plt.ylabel('$\\sigma$')\n",
    "# plt.legend(loc='best');"
   ]
  },
  {
   "cell_type": "markdown",
   "metadata": {},
   "source": [
    "Negative pseudotension corresponds to reverse Ostwald ripening, so now we vary $\\zeta$ and $\\lambda$ to find the boundary of vanishing pseudotension."
   ]
  },
  {
   "cell_type": "code",
   "execution_count": 1,
   "metadata": {},
   "outputs": [],
   "source": [
    "def surface_tension_model(lamb, zeta_lamb):\n",
    "    zeta = zeta_lamb + 2*lamb\n",
    "    profile = planar_profile(zeta_lamb)\n",
    "    model = activedroplets.ActiveModelBPlus(zeta, lamb)\n",
    "    profile.field_theory = model\n",
    "    return profile\n",
    "\n",
    "def surface_tension2(lamb, zeta_lamb):\n",
    "    return surface_tension_model(lamb, zeta_lamb).surface_tension"
   ]
  },
  {
   "cell_type": "markdown",
   "metadata": {},
   "source": [
    "The calculation for the surface tension compares favourably with Tjhung et al's data (Fig 4. in their paper). The boundary shown marks where cluster droplets (positive $\\phi$) become stabilised by reversed Ostwald ripening:  "
   ]
  },
  {
   "cell_type": "code",
   "execution_count": null,
   "metadata": {},
   "outputs": [],
   "source": [
    "l2 = []\n",
    "zeta_lamb2 = np.linspace(-4, 4, 21)\n",
    "for zl in zeta_lamb2:\n",
    "    l2 += [optimize.newton_krylov(lambda l: surface_tension2(l, zl), 0)]\n",
    "\n",
    "l2 = np.array(l2)\n",
    "z2 = zeta_lamb2 + 2*l2\n",
    "print(np.array((z2, l2)).T)"
   ]
  },
  {
   "cell_type": "markdown",
   "metadata": {},
   "source": [
    "Check calculation matches the results of Tjhung (2018) (lines should overlap in the following):"
   ]
  },
  {
   "cell_type": "code",
   "execution_count": null,
   "metadata": {},
   "outputs": [],
   "source": [
    "#plt.plot(z1, l1, lw=0.5, label='Josh')\n",
    "plt.plot(z2, l2, '-', lw=0.5, label='calculation w/ Tjhung formula')\n",
    "\n",
    "lit_z, lit_l = np.genfromtxt('tjhung2018_reversal_clusters.csv').T\n",
    "plt.plot(lit_z, lit_l, '--', lw=0.5, label='Tjhung (2018)')\n",
    "\n",
    "plt.xlabel(r'$\\zeta$')\n",
    "plt.ylabel(r'$\\lambda$')\n",
    "plt.legend(loc='best');"
   ]
  },
  {
   "cell_type": "markdown",
   "metadata": {},
   "source": [
    "Make a nice phase diagram for reversal of Ostwald ripening:"
   ]
  },
  {
   "cell_type": "code",
   "execution_count": null,
   "metadata": {},
   "outputs": [],
   "source": [
    "\n",
    "plt.plot(z2, l2, '-', lw=0.5)\n",
    "plt.plot(-z2, -l2, '-', lw=0.5)\n",
    "plt.xlim([-4, 4])\n",
    "plt.ylim([-2, 2])\n",
    "\n",
    "fontsize = 8\n",
    "plt.text(-2,  1, 'Forward Ostwald\\nripening\\n($\\\\sigma > 0$)', fontsize=fontsize, ha='center', va='center')\n",
    "plt.text( 2.25,  1.5, 'Reverse Ostwald\\nripening for bubbles\\n($\\\\sigma < 0$)', fontsize=fontsize, ha='center', va='center')\n",
    "plt.text(-2.25, -1.5, 'Reverse Ostwald\\nripening for clusters\\n($\\\\sigma < 0$)', fontsize=fontsize, ha='center', va='center')\n",
    "\n",
    "plt.xlabel(r'$\\zeta$')\n",
    "plt.ylabel(r'$\\lambda$')\n",
    "\n",
    "plt.show()"
   ]
  },
  {
   "cell_type": "code",
   "execution_count": null,
   "metadata": {},
   "outputs": [],
   "source": []
  }
 ],
 "metadata": {
  "kernelspec": {
   "display_name": "usr",
   "language": "python",
   "name": "python3"
  },
  "language_info": {
   "codemirror_mode": {
    "name": "ipython",
    "version": 3
   },
   "file_extension": ".py",
   "mimetype": "text/x-python",
   "name": "python",
   "nbconvert_exporter": "python",
   "pygments_lexer": "ipython3",
   "version": "3.13.1"
  }
 },
 "nbformat": 4,
 "nbformat_minor": 4
}
